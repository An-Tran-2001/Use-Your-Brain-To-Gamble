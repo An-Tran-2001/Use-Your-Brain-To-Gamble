{
 "cells": [
  {
   "cell_type": "code",
   "execution_count": 10,
   "metadata": {},
   "outputs": [],
   "source": [
    "import pandas as pd\n",
    "import os"
   ]
  },
  {
   "cell_type": "code",
   "execution_count": 11,
   "metadata": {},
   "outputs": [],
   "source": [
    "path_ada = os.path.join(os.getcwd(), 'data', 'ADAUSDT.csv')\n",
    "path_btc = os.path.join(os.getcwd(), 'data', 'BTCUSDT.csv')\n",
    "ada_df = pd.read_csv(path_ada)\n",
    "btc_df = pd.read_csv(path_btc)"
   ]
  },
  {
   "cell_type": "code",
   "execution_count": 12,
   "metadata": {},
   "outputs": [],
   "source": [
    "ada_new_df = ada_df.iloc[0:100]\n",
    "btc_new_df = btc_df.iloc[0:100]\n",
    "ada_new_df.to_csv('data/ADAUSDT_new.csv')\n",
    "btc_new_df.to_csv('data/BTCUSDT_new.csv')\n",
    "os.remove(path_ada)\n",
    "os.remove(path_btc)\n"
   ]
  }
 ],
 "metadata": {
  "kernelspec": {
   "display_name": "Python 3",
   "language": "python",
   "name": "python3"
  },
  "language_info": {
   "codemirror_mode": {
    "name": "ipython",
    "version": 3
   },
   "file_extension": ".py",
   "mimetype": "text/x-python",
   "name": "python",
   "nbconvert_exporter": "python",
   "pygments_lexer": "ipython3",
   "version": "3.10.7"
  },
  "orig_nbformat": 4,
  "vscode": {
   "interpreter": {
    "hash": "e7325d7185f4a29f66a8488cfaf8ab37ee63bf0edd86e8cc8b4bc35a43f28dec"
   }
  }
 },
 "nbformat": 4,
 "nbformat_minor": 2
}
